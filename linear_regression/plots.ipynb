{
 "cells": [
  {
   "cell_type": "code",
   "execution_count": null,
   "id": "d313560d",
   "metadata": {},
   "outputs": [],
   "source": [
    "import numpy as np\n",
    "import pandas as pd\n",
    "import matplotlib.pyplot as plt\n",
    "import seaborn as sns"
   ]
  },
  {
   "cell_type": "code",
   "execution_count": 4,
   "id": "7444b575",
   "metadata": {},
   "outputs": [],
   "source": [
    "weight = np.random.normal(loc=70, scale=20, size=50).round(2)\n",
    "height = np.random.normal(loc=170, scale=20, size=50).round(2)\n",
    "\n",
    "df = pd.DataFrame({\n",
    "    'weight': weight,\n",
    "    'height': height\n",
    "})"
   ]
  },
  {
   "cell_type": "code",
   "execution_count": null,
   "id": "36a6aa65",
   "metadata": {},
   "outputs": [],
   "source": [
    "#Scatter plot\n",
    "sns.scatterplot(x=weight, y=height, data=df)\n",
    "plt.xlabel('Weight')\n",
    "plt.ylabel('Height')\n",
    "plt.title('Weight vs Height')"
   ]
  },
  {
   "cell_type": "code",
   "execution_count": null,
   "id": "4f5c2889",
   "metadata": {},
   "outputs": [],
   "source": [
    "# Histogram for each feature\n",
    "plt.hist(x=weight, bins=10, color='blue', edgecolor='black')\n",
    "plt.title('Histogram of Weight')\n",
    "plt.show()\n",
    "\n",
    "df['height'].plot(kind='hist', bins=10, color='red', edgecolor='black')\n",
    "plt.title('Histogram of Height')\n",
    "plt.show()"
   ]
  },
  {
   "cell_type": "code",
   "execution_count": null,
   "id": "a3672ac8",
   "metadata": {},
   "outputs": [],
   "source": [
    "# Join plot for relation and distribution at once\n",
    "sns.jointplot(x='height', y='weight', data=df, kind='scatter')\n",
    "plt.show()"
   ]
  },
  {
   "cell_type": "code",
   "execution_count": null,
   "id": "e809803b",
   "metadata": {},
   "outputs": [],
   "source": [
    "# 2d Histogram\n",
    "plt.hist2d(df['height'], df['weight'], bins=20, cmap='Purples')\n",
    "plt.colorbar(label='Count')\n",
    "plt.xlabel(\"Height\")\n",
    "plt.ylabel(\"Weight\")\n",
    "plt.title(\"2D Histogram\")\n",
    "plt.show()"
   ]
  },
  {
   "cell_type": "code",
   "execution_count": null,
   "id": "b5d14388",
   "metadata": {},
   "outputs": [],
   "source": []
  }
 ],
 "metadata": {
  "kernelspec": {
   "display_name": ".venv",
   "language": "python",
   "name": "python3"
  },
  "language_info": {
   "codemirror_mode": {
    "name": "ipython",
    "version": 3
   },
   "file_extension": ".py",
   "mimetype": "text/x-python",
   "name": "python",
   "nbconvert_exporter": "python",
   "pygments_lexer": "ipython3",
   "version": "3.13.3"
  }
 },
 "nbformat": 4,
 "nbformat_minor": 5
}
