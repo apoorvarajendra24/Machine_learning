{
 "cells": [
  {
   "cell_type": "code",
   "execution_count": 1,
   "id": "53aff207",
   "metadata": {},
   "outputs": [],
   "source": [
    "import pandas as pd\n",
    "import numpy as np"
   ]
  },
  {
   "cell_type": "code",
   "execution_count": 2,
   "id": "286ac34d",
   "metadata": {},
   "outputs": [],
   "source": [
    "df = pd.read_csv('Kyphosis.csv')"
   ]
  },
  {
   "cell_type": "code",
   "execution_count": null,
   "id": "0b3f9631",
   "metadata": {},
   "outputs": [],
   "source": [
    "# This will store the row indexes of the dataframe in the form of list\n",
    "df_index = list(df.index)"
   ]
  },
  {
   "cell_type": "code",
   "execution_count": null,
   "id": "dea7ec30",
   "metadata": {},
   "outputs": [
    {
     "data": {
      "text/plain": [
       "array([45, 49, 13, 44, 28, 64, 54, 15, 62, 57, 42, 11, 30, 12, 22, 48, 60,\n",
       "       61, 59, 76, 33, 67, 17, 38, 18, 47, 68,  0, 24,  1, 37, 65, 79,  6,\n",
       "       56, 26, 58,  3, 16, 41, 78,  4, 27, 80, 25, 39, 70, 43, 31, 40, 74,\n",
       "       34, 53, 71, 10, 21, 69, 20, 75, 66])"
      ]
     },
     "execution_count": 6,
     "metadata": {},
     "output_type": "execute_result"
    }
   ],
   "source": [
    "# Simple Random Sampling Without Replacement: SRSWOR\n",
    "samp_ind = np.random.choice(df_index, size=60, replace=False)\n",
    "samp_ind\n",
    "\n",
    "# randomly select 60 rows from the dataset without replacement"
   ]
  },
  {
   "cell_type": "code",
   "execution_count": 9,
   "id": "6d292daf",
   "metadata": {},
   "outputs": [
    {
     "data": {
      "text/html": [
       "<div>\n",
       "<style scoped>\n",
       "    .dataframe tbody tr th:only-of-type {\n",
       "        vertical-align: middle;\n",
       "    }\n",
       "\n",
       "    .dataframe tbody tr th {\n",
       "        vertical-align: top;\n",
       "    }\n",
       "\n",
       "    .dataframe thead th {\n",
       "        text-align: right;\n",
       "    }\n",
       "</style>\n",
       "<table border=\"1\" class=\"dataframe\">\n",
       "  <thead>\n",
       "    <tr style=\"text-align: right;\">\n",
       "      <th></th>\n",
       "      <th>Kyphosis</th>\n",
       "      <th>Age</th>\n",
       "      <th>Number</th>\n",
       "      <th>Start</th>\n",
       "    </tr>\n",
       "  </thead>\n",
       "  <tbody>\n",
       "    <tr>\n",
       "      <th>45</th>\n",
       "      <td>present</td>\n",
       "      <td>139</td>\n",
       "      <td>3</td>\n",
       "      <td>10</td>\n",
       "    </tr>\n",
       "    <tr>\n",
       "      <th>49</th>\n",
       "      <td>absent</td>\n",
       "      <td>177</td>\n",
       "      <td>2</td>\n",
       "      <td>14</td>\n",
       "    </tr>\n",
       "    <tr>\n",
       "      <th>13</th>\n",
       "      <td>absent</td>\n",
       "      <td>1</td>\n",
       "      <td>4</td>\n",
       "      <td>12</td>\n",
       "    </tr>\n",
       "    <tr>\n",
       "      <th>44</th>\n",
       "      <td>absent</td>\n",
       "      <td>97</td>\n",
       "      <td>3</td>\n",
       "      <td>16</td>\n",
       "    </tr>\n",
       "    <tr>\n",
       "      <th>28</th>\n",
       "      <td>absent</td>\n",
       "      <td>4</td>\n",
       "      <td>3</td>\n",
       "      <td>16</td>\n",
       "    </tr>\n",
       "  </tbody>\n",
       "</table>\n",
       "</div>"
      ],
      "text/plain": [
       "   Kyphosis  Age  Number  Start\n",
       "45  present  139       3     10\n",
       "49   absent  177       2     14\n",
       "13   absent    1       4     12\n",
       "44   absent   97       3     16\n",
       "28   absent    4       3     16"
      ]
     },
     "execution_count": 9,
     "metadata": {},
     "output_type": "execute_result"
    }
   ],
   "source": [
    "# Selected random samples are stored into a new df\n",
    "samp_df1 = df.iloc[samp_ind, :]\n",
    "samp_df1.head()"
   ]
  },
  {
   "cell_type": "code",
   "execution_count": 10,
   "id": "ef26fad9",
   "metadata": {},
   "outputs": [
    {
     "data": {
      "text/plain": [
       "array([46, 44, 61, 34, 47, 33, 65, 19, 14, 48, 72, 41, 11, 20, 49, 46, 16,\n",
       "       13, 69, 39, 46, 66, 77,  8,  6, 30, 61, 19, 22,  8, 51, 69, 57, 48,\n",
       "       31, 76, 57, 77, 24, 52, 20, 15, 80,  5, 17, 16,  2, 52, 70, 70, 62,\n",
       "        4, 20, 64, 26, 47, 77, 24, 72, 34, 72, 65, 53, 25, 49, 75, 54, 56,\n",
       "       34, 28, 23, 58, 42, 34, 59,  3, 30, 43, 15, 70, 10])"
      ]
     },
     "execution_count": 10,
     "metadata": {},
     "output_type": "execute_result"
    }
   ],
   "source": [
    "# Simple Random Sampling With Replacement: SRSWR\n",
    "samp_ind = np.random.choice(df_index, size=81, replace=True)\n",
    "samp_ind\n",
    "\n",
    "# randomly select 60 rows from the dataset with replacement"
   ]
  },
  {
   "cell_type": "code",
   "execution_count": 11,
   "id": "5185d492",
   "metadata": {},
   "outputs": [
    {
     "data": {
      "text/html": [
       "<div>\n",
       "<style scoped>\n",
       "    .dataframe tbody tr th:only-of-type {\n",
       "        vertical-align: middle;\n",
       "    }\n",
       "\n",
       "    .dataframe tbody tr th {\n",
       "        vertical-align: top;\n",
       "    }\n",
       "\n",
       "    .dataframe thead th {\n",
       "        text-align: right;\n",
       "    }\n",
       "</style>\n",
       "<table border=\"1\" class=\"dataframe\">\n",
       "  <thead>\n",
       "    <tr style=\"text-align: right;\">\n",
       "      <th></th>\n",
       "      <th>Kyphosis</th>\n",
       "      <th>Age</th>\n",
       "      <th>Number</th>\n",
       "      <th>Start</th>\n",
       "    </tr>\n",
       "  </thead>\n",
       "  <tbody>\n",
       "    <tr>\n",
       "      <th>46</th>\n",
       "      <td>absent</td>\n",
       "      <td>136</td>\n",
       "      <td>4</td>\n",
       "      <td>15</td>\n",
       "    </tr>\n",
       "    <tr>\n",
       "      <th>44</th>\n",
       "      <td>absent</td>\n",
       "      <td>97</td>\n",
       "      <td>3</td>\n",
       "      <td>16</td>\n",
       "    </tr>\n",
       "    <tr>\n",
       "      <th>61</th>\n",
       "      <td>present</td>\n",
       "      <td>114</td>\n",
       "      <td>7</td>\n",
       "      <td>8</td>\n",
       "    </tr>\n",
       "    <tr>\n",
       "      <th>34</th>\n",
       "      <td>absent</td>\n",
       "      <td>140</td>\n",
       "      <td>5</td>\n",
       "      <td>11</td>\n",
       "    </tr>\n",
       "    <tr>\n",
       "      <th>47</th>\n",
       "      <td>absent</td>\n",
       "      <td>131</td>\n",
       "      <td>5</td>\n",
       "      <td>13</td>\n",
       "    </tr>\n",
       "  </tbody>\n",
       "</table>\n",
       "</div>"
      ],
      "text/plain": [
       "   Kyphosis  Age  Number  Start\n",
       "46   absent  136       4     15\n",
       "44   absent   97       3     16\n",
       "61  present  114       7      8\n",
       "34   absent  140       5     11\n",
       "47   absent  131       5     13"
      ]
     },
     "execution_count": 11,
     "metadata": {},
     "output_type": "execute_result"
    }
   ],
   "source": [
    "samp_df2 = df.iloc[samp_ind, :]\n",
    "samp_df2.head()"
   ]
  }
 ],
 "metadata": {
  "kernelspec": {
   "display_name": ".venv",
   "language": "python",
   "name": "python3"
  },
  "language_info": {
   "codemirror_mode": {
    "name": "ipython",
    "version": 3
   },
   "file_extension": ".py",
   "mimetype": "text/x-python",
   "name": "python",
   "nbconvert_exporter": "python",
   "pygments_lexer": "ipython3",
   "version": "3.13.3"
  }
 },
 "nbformat": 4,
 "nbformat_minor": 5
}
